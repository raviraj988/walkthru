{
 "cells": [
  {
   "cell_type": "markdown",
   "id": "a67f83a4-a7a9-4d7b-9187-a17047391612",
   "metadata": {},
   "source": [
    "# walkthru fast.ai"
   ]
  },
  {
   "cell_type": "markdown",
   "id": "2de9d67c-c1b0-43bc-bc96-90591087ee68",
   "metadata": {},
   "source": [
    "here is how i start"
   ]
  },
  {
   "cell_type": "markdown",
   "id": "1043964b-b66e-49cd-9b0c-f30455927406",
   "metadata": {},
   "source": [
    "## lets start"
   ]
  },
  {
   "cell_type": "code",
   "execution_count": null,
   "id": "a704b1e3-9f13-4e1b-a7f9-7d3fff269c88",
   "metadata": {},
   "outputs": [],
   "source": []
  },
  {
   "cell_type": "markdown",
   "id": "d5ae9cc1-03a1-4865-a454-6356a8c33066",
   "metadata": {},
   "source": [
    "raj is not in the sudoers file.  This incident will be reported."
   ]
  },
  {
   "cell_type": "markdown",
   "id": "0fa7c8f5-eda4-44be-8c8e-ec213adc565c",
   "metadata": {},
   "source": [
    "# hjk "
   ]
  },
  {
   "cell_type": "code",
   "execution_count": null,
   "id": "4d6ec379-ed4d-46d7-9323-4179fe6f603b",
   "metadata": {},
   "outputs": [],
   "source": []
  }
 ],
 "metadata": {
  "kernelspec": {
   "display_name": "Python 3 (ipykernel)",
   "language": "python",
   "name": "python3"
  },
  "language_info": {
   "codemirror_mode": {
    "name": "ipython",
    "version": 3
   },
   "file_extension": ".py",
   "mimetype": "text/x-python",
   "name": "python",
   "nbconvert_exporter": "python",
   "pygments_lexer": "ipython3",
   "version": "3.9.13"
  }
 },
 "nbformat": 4,
 "nbformat_minor": 5
}
